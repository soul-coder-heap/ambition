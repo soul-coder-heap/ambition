{
 "cells": [
  {
   "cell_type": "code",
   "execution_count": 3,
   "id": "3c1d7485-de5a-4472-a556-175a9ee89ccc",
   "metadata": {},
   "outputs": [
    {
     "name": "stdout",
     "output_type": "stream",
     "text": [
      "[[0.03038441 0.99883445 0.67991095]\n",
      " [0.47646241 1.44956558 0.1171028 ]\n",
      " [1.41293548 0.4353713  1.64628995]\n",
      " [1.1466428  1.45635886 0.14168847]\n",
      " [1.17122557 1.06295257 0.7355076 ]\n",
      " [1.41015955 1.184052   0.27915878]\n",
      " [0.57693888 0.12183656 0.9011052 ]\n",
      " [1.78696347 1.20340641 0.57111917]\n",
      " [0.71774212 1.87996283 1.23033401]]\n",
      "[0.63501157 0.12587533 0.67882157 0.56199904]\n"
     ]
    },
    {
     "data": {
      "image/png": "[encoded data removed]",
      "text/plain": [
       "<Figure size 432x288 with 1 Axes>"
      ]
     },
     "metadata": {
      "needs_background": "light"
     },
     "output_type": "display_data"
    },
    {
     "name": "stdout",
     "output_type": "stream",
     "text": [
      "[0.  0.2 0.4 0.6 0.8 1.  1.2 1.4 1.6 1.8 2.  2.2 2.4 2.6 2.8 3.  3.2 3.4\n",
      " 3.6 3.8 4.  4.2 4.4 4.6 4.8]\n"
     ]
    },
    {
     "data": {
      "image/png": "[encoded data removed]",
      "text/plain": [
       "<Figure size 432x288 with 1 Axes>"
      ]
     },
     "metadata": {
      "needs_background": "light"
     },
     "output_type": "display_data"
    },
    {
     "name": "stdout",
     "output_type": "stream",
     "text": [
      "返回的数据类型 <class 'list'>\n",
      "数据大小： 3\n",
      "s\n"
     ]
    }
   ],
   "source": [
    "import numpy as np\n",
    "import pandas as pa\n",
    "import matplotlib.pyplot as plt\n",
    "a = np.random.random((9, 3))*2  # 随机生成y\n",
    "print(a)\n",
    "a = np.random.rand(4)\n",
    "print(a)\n",
    "a = np.random.random((9, 3))\n",
    "# 定义一维数组\n",
    "x = np.arange(0, 5, 0.2)\n",
    "y1 = x\n",
    "y2 = x**2\n",
    "y3 = x**3\n",
    "# 使用plot绘制线条\n",
    "linesList = plt.plot(x, y1, 'r*-', x, y2, 'r^-', x, y3, 'r.-')\n",
    "# 用setp方法可以同时设置多个线条的属性\n",
    "plt.setp(linesList, color='r')\n",
    "plt.show()\n",
    "plt.plot((x))\n",
    "print(x)\n",
    "plt.show()\n",
    "print('返回的数据类型', type(linesList))\n",
    "print('数据大小：', len(linesList))\n",
    "print(\"s\")"
   ]
  },
  {
   "cell_type": "code",
   "execution_count": null,
   "id": "bafeb052-5c77-43a5-8347-99e82f096894",
   "metadata": {},
   "outputs": [],
   "source": [
    "# 首先创建一个函数和一个Python3.x的新式类\n",
    "class Demo(object):\n",
    "    def __init__(self):\n",
    "        print(\"Demo Class\")\n",
    "# 定义一个函数\n",
    "def function():\n",
    "    print(\"function hahaha\")\n",
    "# 在Python无论是函数，还是类，都是对象，他们可以赋值给一个变量\n",
    "class_value = Demo\n",
    "func_value = function\n",
    "# 并且可以通过变量调用\n",
    "class_value()   # Demo Class\n",
    "func_value()    # function\n",
    "#Step.2\n",
    "# 将函数和类添加到集合中\n",
    "obj_list = []\n",
    "obj_list.append(class_value)\n",
    "obj_list.append(func_value)\n",
    "# 遍历列表\n",
    "for i,v in enumerate(obj_list):\n",
    "    print(i, v)\n",
    "    if i == 1:\n",
    "        v()\n",
    "    # <class '__main__.Demo'>\n",
    "    # <function function at 0x0000020D681B3E18>"
   ]
  },
  {
   "cell_type": "code",
   "execution_count": null,
   "id": "6cf85447",
   "metadata": {},
   "outputs": [],
   "source": [
    "# object是谁实例化的？\n",
    "print(type(object))      # <class 'type'>\n",
    "# object继承自哪个类？\n",
    "print(object.__bases__)  # ()\n",
    "# type是谁实例化的？\n",
    "print(type(type))        # <class 'type'>\n",
    "# type继承自哪个类？\n",
    "print(type.__bases__)    # (<class 'object'>,)\n",
    "# 定义一个变量\n",
    "value = 100\n",
    "# 100由谁实例化？\n",
    "print(type(value))       # <class 'int'>\n",
    "# int由谁实例化？\n",
    "print(type(int))         # <class 'type'>\n",
    "# int继承自哪个类？\n",
    "print(int.__bases__)     # (<class 'object'>,)"
   ]
  },
  {
   "cell_type": "code",
   "execution_count": 4,
   "id": "d473506a",
   "metadata": {},
   "outputs": [
    {
     "name": "stdout",
     "output_type": "stream",
     "text": [
      "True\n",
      "False\n",
      "True\n",
      "False\n"
     ]
    }
   ],
   "source": [
    "# instance compare type\n",
    "class A(object):\n",
    "    pass\n",
    "class B(A):\n",
    "    pass\n",
    "b = B()\n",
    "print(isinstance(b, B))\n",
    "print(isinstance(A, A))\n",
    "print(type(b) is B)\n",
    "print(type(b) is A)\n",
    "\n",
    "# True\n",
    "# True\n",
    "# True\n",
    "# False"
   ]
  },
  {
   "cell_type": "code",
   "execution_count": null,
   "id": "84f5e823",
   "metadata": {},
   "outputs": [],
   "source": [
    "# 此处的类也是模板对象，Python中一切皆对象\n",
    "class A(object):\n",
    "    number = 12#类变量\n",
    "    def __init__(self):\n",
    "        # 实例变量 \n",
    "        self.number_2 = 13\n",
    "# 实例变量只能通过类的实例进行调用\n",
    "print(A.number)      # 12\n",
    "print(A().number)    # 12\n",
    "A.number = [1000,1232,43254,345,35322]\n",
    "print(A().number_2)  # 13\n",
    "print(A().number_2)  # 12\n",
    "print(\"A instance\", A().number, A.number) \n",
    "# 修改模板对象创建的对象的属性，模板对象的属性不会改变\n",
    "a = A()\n",
    "a.number = 18\n",
    "print(a.number)      # 18\n",
    "print(A().number)    # 12\n",
    "print(A.number)      # 12\n",
    "# 修改模板对象的属性，由模板对象创建的对象的属性会改变\n",
    "A.number = 19\n",
    "print(A.number)      # 19\n",
    "print(A().number)    # 19\n",
    "\n",
    "a = A()\n",
    "print(a.number, a.number_2)\n",
    "a.number = 124\n",
    "print(a.number, a.number_2)\n",
    "A.number = 19\n",
    "print(a.number, a.number_2)\n",
    "\n"
   ]
  },
  {
   "cell_type": "code",
   "execution_count": 5,
   "id": "a89bcfd4",
   "metadata": {},
   "outputs": [
    {
     "name": "stdout",
     "output_type": "stream",
     "text": [
      "None\n"
     ]
    }
   ],
   "source": [
    "class Demo(object):\n",
    "    #class_insatnce\n",
    "    num = []\n",
    "    # 类方法\n",
    "    @classmethod\n",
    "    def class_method(cls, number):\n",
    "        pass\n",
    "    # 静态方法\n",
    "    @staticmethod\n",
    "    def static_method(number):\n",
    "        pass\n",
    "    # 对象方法/实例方法\n",
    "    def object_method(self, number):\n",
    "        pass\n",
    "print(Demo.object_method(1222,23323))"
   ]
  },
  {
   "cell_type": "code",
   "execution_count": 6,
   "id": "791eb8ff",
   "metadata": {},
   "outputs": [
    {
     "name": "stdout",
     "output_type": "stream",
     "text": [
      "<class '__main__.Person'>\n",
      "4\n"
     ]
    }
   ],
   "source": [
    "class Home(object):\n",
    "    # 房间中人数\n",
    "    __number = 0\n",
    "    @classmethod\n",
    "    def add_person_number(cls):\n",
    "        cls.__number += 1\n",
    "    @classmethod\n",
    "    def get_person_number(cls):\n",
    "        return cls.__number\n",
    "    def __new__(self):\n",
    "        Home.add_person_number()\n",
    "        # 重写__new__方法，调用object的__new__\n",
    "        return super().__new__(self)\n",
    "class Person(Home):\n",
    "    def __init__(self):\n",
    "        # 房间人员姓名\n",
    "        self.name = 'name'\n",
    "    # 创建人员对象时调用Home的__new__()方法\n",
    "tom = Person()\n",
    "print(type(tom))   # <class '__main__.Person'>\n",
    "alice = Person()\n",
    "bob = Person()\n",
    "test = Person()\n",
    "print(Home.get_person_number())"
   ]
  },
  {
   "cell_type": "code",
   "execution_count": 7,
   "id": "4a7a1da3",
   "metadata": {},
   "outputs": [
    {
     "name": "stdout",
     "output_type": "stream",
     "text": [
      "Bruce is 25 weights 180\n"
     ]
    }
   ],
   "source": [
    "class person(object):\n",
    "    tall = 180\n",
    "    hobbies = [12334,123452]\n",
    "    def __init__(self, name, age,weight):\n",
    "        self.name = name\n",
    "        self.age = age\n",
    "        self.weight = weight\n",
    "    def infoma(self):\n",
    "        print('%s is %s weights %s'%(self.name,self.age,self.weight))\n",
    "Bruce = person(\"Bruce\", 25,180)\n",
    "Bruce.infoma()"
   ]
  },
  {
   "cell_type": "code",
   "execution_count": 8,
   "id": "5b5e4819",
   "metadata": {},
   "outputs": [
    {
     "name": "stdout",
     "output_type": "stream",
     "text": [
      "person\n",
      "['__class__', '__delattr__', '__dict__', '__dir__', '__doc__', '__eq__', '__format__', '__ge__', '__getattribute__', '__gt__', '__hash__', '__init__', '__init_subclass__', '__le__', '__lt__', '__module__', '__ne__', '__new__', '__reduce__', '__reduce_ex__', '__repr__', '__setattr__', '__sizeof__', '__str__', '__subclasshook__', '__weakref__', 'hobbies', 'infoma', 'tall']\n",
      "180 [213, 234, 123432, 123432, 2345, 324, 234]\n"
     ]
    }
   ],
   "source": [
    "class person(object):\n",
    "    tall = 180\n",
    "    hobbies = [213,234,123432,123432,2345,324,234]\n",
    "    def __init__(self, name, age,weight):\n",
    "        self.name = name\n",
    "        self.age = age\n",
    "        self.weight = weight\n",
    "    @classmethod     #类的装饰器\n",
    "    def infoma(cls):   #cls表示类本身，使用类参数cls\n",
    "        print(cls.__name__)\n",
    "        print(dir(cls))\n",
    "        print(cls.tall, cls.hobbies)\n",
    "#cls表示类本身\n",
    "#person.infoma()  直接调用类的装饰器函数，通过cls可以访问类的相关属性\n",
    "Bruce = person(\"Bruce\", 25,180)   #也可以通过两步骤来实现，第一步实例化person，第二步调用装饰器\n",
    "Bruce.infoma() "
   ]
  },
  {
   "cell_type": "code",
   "execution_count": null,
   "id": "b0f80ab1",
   "metadata": {},
   "outputs": [],
   "source": [
    "class person(object):\n",
    "    tall = 180\n",
    "    hobbies = [21324,1,3,53452]\n",
    "    def __init__(self, name, age,weight):\n",
    "        self.name = name\n",
    "        self.age = age\n",
    "        self.weight = weight\n",
    "    @staticmethod    #静态方法装饰器\n",
    "    def infoma():    #没有参数限制，既不要实例参数，也不用类参数\n",
    "        print(person.tall)\n",
    "        print(person.hobbies)\n",
    "person.infoma()     #静态法可以通过类名访问\n",
    "Bruce = person(\"Bruce\", 25,180)   #通过实例访问\n",
    "Bruce.infoma() "
   ]
  },
  {
   "cell_type": "code",
   "execution_count": 9,
   "id": "7d382051",
   "metadata": {},
   "outputs": [
    {
     "name": "stdout",
     "output_type": "stream",
     "text": [
      "[0, 1, 2, 3, 4, 5, 6, 7, 8, 9]\n",
      "child class [0, 1, 2, 3, 4, 5, 6, 7, 8, 9]\n",
      "77 - 2 = 75\n",
      "True\n",
      "True\n",
      "the bases are: (<class '__main__.Parent'>,)\n",
      "None\n",
      "None\n"
     ]
    }
   ],
   "source": [
    "class Parent(object):\n",
    "    numList = []\n",
    "    def numdiff(self, a, b):\n",
    "        return a-b\n",
    "class Child(Parent):\n",
    "    pass\n",
    "c = Child()      \n",
    "Child.numList.extend(range(10))\n",
    "print(Child.numList)\n",
    "print(\"child class\", c.numList)\n",
    "print(\"77 - 2 =\", c.numdiff(77, 2))\n",
    "print(issubclass(Child, Parent))\n",
    "print(issubclass(Child, object))\n",
    "# __bases__ can show all the parent classes\n",
    "#bases属性查看父类\n",
    "print('the bases are:',Child.__bases__)\n",
    "# doc string will not be inherited\n",
    "#doc属性不会被继承\n",
    "print(Parent.__doc__)\n",
    "print(Child.__doc__)"
   ]
  },
  {
   "cell_type": "code",
   "execution_count": null,
   "id": "7d1e51ca",
   "metadata": {},
   "outputs": [],
   "source": [
    "# inherit\n",
    "#定义父类：Parent\n",
    "class Parent(object):\n",
    "    def __init__(self, name):\n",
    "        self.name = name\n",
    "        print(\"create an instance of:\", self.__class__.__name__)\n",
    "        print(\"name attribute is:\", self.name)\n",
    "#定义子类Child ，继承父类Parent       \n",
    "class Child(Parent):\n",
    "    def __init__(self,st):\n",
    "        self.names = st\n",
    "        print(\"create an instance of:\", self.__class__.__name__)\n",
    "        print(\"name attribute is init child:\", self.names)\n",
    "        super(Child,self).__init__(\"data from Child\")\n",
    "#子类实例化时，由于子类没有初始化，此时父类的初始化函数就会默认被调用\n",
    "#且必须传入父类的参数name\n",
    "c = Child(\"init Child\")\n",
    "print(c.name, c.names)"
   ]
  },
  {
   "cell_type": "code",
   "execution_count": null,
   "id": "ce5bd4f4",
   "metadata": {},
   "outputs": [],
   "source": [
    "# inherit function\n",
    "class Parent(object):\n",
    "    Value = \"Hi, Parent value\"\n",
    "    def fun(self):\n",
    "        print(\"This is from Parent\")\n",
    "\n",
    "class Child(Parent):\n",
    "    Value = \"Hi, Child  value\"\n",
    "    def fun(self):\n",
    "        print(\"This is from Child\")\n",
    "        #Parent.fun(self)\n",
    "        super(Child,self).fun()  #相当于用super的方法与上一调用父类的语句置换\n",
    "\n",
    "c = Child()    \n",
    "c.fun()"
   ]
  },
  {
   "cell_type": "code",
   "execution_count": null,
   "id": "b0beec6e",
   "metadata": {},
   "outputs": [],
   "source": [
    "'''\n",
    "\"__“和” _ __\"的使用 更多的是一种规范/约定，并没有真正达到限制的目的：\n",
    "“_”：以单下划线开头的表示的是protected类型的变量，即只能允许其本身与子类进行访问；同时表示弱内部变量标示，如，当使用\"from moduleNmae import *\"时，不会将以一个下划线开头的对象引入。\n",
    "“__”：双下划线的表示的是私有类型的变量。只能是允许这个类本身进行访问了，连子类也不可以，这类属性在运行时属性名会加上单下划线和类名。\n",
    "'''\n",
    "try:\n",
    "    fh = open(\"testfile\", \"w\")\n",
    "    fh.write(\"这是一个测试文件，用于测试异常!!\")\n",
    "except IOError:\n",
    "    print \"Error: 没有找到文件或读取文件失败\"\n",
    "else:\n",
    "    print \"内容写入文件成功\"\n",
    "    fh.close()\n",
    "    \n",
    "    \n",
    "try:\n",
    "    fh = open(\"testfile\", \"w\")\n",
    "    try:\n",
    "        fh.write(\"这是一个测试文件，用于测试异常!!\")\n",
    "    finally:\n",
    "        print \"关闭文件\"\n",
    "        fh.close()\n",
    "except IOError:\n",
    "    print \"Error: 没有找到文件或读取文件失败\""
   ]
  },
  {
   "cell_type": "code",
   "execution_count": null,
   "id": "91425ddc",
   "metadata": {},
   "outputs": [],
   "source": [
    "# map可以用于对可遍历结构的每个元素执行同样的操作，批量操作：\n",
    "map(lambda x: x**2, [1, 2, 3, 4])                 # [1, 4, 9, 16]\n",
    "map(lambda x, y: x + y, [1, 2, 3], [5, 6, 7])     # [6, 8, 10]\n",
    "# 在Python3种输出上述结果\n",
    "result1=list(map(lambda x: x**2, [1, 2, 3, 4]) )                # [1, 4, 9, 16]\n",
    "print(result1)\n",
    "result2 = (map(lambda x, y: x + y, [1, 2, 3], [5, 6, 7]))     # [6, 8, 10]\n",
    "print(result2)\n",
    "# reduce则是对可遍历结构的元素按顺序进行两个输入参数的操作\n",
    "# 并且每次的结果保存作为下次操作的第一个输入参数，还没有遍历的元素作为第二个输入参数\n",
    "# 这样的结果就是把一串可遍历的值，减少（reduce）成一个对象\n",
    "from functools import reduce\n",
    "res=reduce(lambda x, y: x + y, [1, 2, 3, 4])    # ((1+2)+3)+4=10\n",
    "print(res)\n",
    "# filter顾名思义，根据条件对可遍历结构进行筛选\n",
    "filter(lambda x: x % 2, [1, 2, 3, 4, 5])    # 筛选奇数，[1, 3, 5]\n"
   ]
  },
  {
   "cell_type": "code",
   "execution_count": null,
   "id": "326cba74",
   "metadata": {},
   "outputs": [],
   "source": [
    "# thread\n",
    "import time, threading\n",
    "# 新线程执行的代码:\n",
    "def loop():\n",
    "    print('thread %s is running...' % threading.current_thread().name)\n",
    "    n = 0\n",
    "    while n < 5:\n",
    "        n = n + 1\n",
    "        print('thread %s >>> %s' % (threading.current_thread().name, n))\n",
    "        time.sleep(1)\n",
    "    print('thread %s ended.' % threading.current_thread().name)\n",
    "\n",
    "print('thread %s is running...' % threading.current_thread().name)\n",
    "t = threading.Thread(target=loop, name='LoopThread')\n",
    "t.start()\n",
    "t.join()\n",
    "print('thread %s ended.' % threading.current_thread().name)"
   ]
  },
  {
   "cell_type": "code",
   "execution_count": null,
   "id": "a2ba0a40",
   "metadata": {},
   "outputs": [],
   "source": [
    "from urllib import request\n",
    "with request.urlopen('https://www.baidu.com') as f:\n",
    "    data = f.read()\n",
    "    print('Status:', f.status, f.reason)\n",
    "    for k, v in f.getheaders():\n",
    "        print('%s: %s' % (k, v))\n",
    "    print('Data:', data.decode('utf-8'))"
   ]
  },
  {
   "cell_type": "code",
   "execution_count": null,
   "id": "33aa3867",
   "metadata": {},
   "outputs": [],
   "source": [
    "import psutil\n",
    "psutil.cpu_count()  # CPU逻辑数量\n",
    "psutil.cpu_count(logical=False)  # CPU物理核心\n",
    "#psutil.test()"
   ]
  },
  {
   "cell_type": "code",
   "execution_count": null,
   "id": "649a2309",
   "metadata": {},
   "outputs": [],
   "source": [
    "# 导入SQLite驱动:\n",
    "import sqlite3\n",
    "# 连接到SQLite数据库\n",
    "# 数据库文件是test.db\n",
    "# 如果文件不存在，会自动在当前目录创建:\n",
    "conn = sqlite3.connect('test.db')\n",
    "# 创建一个Cursor:\n",
    "cursor = conn.cursor()\n",
    "# 执行一条SQL语句，创建user表:\n",
    "cursor.execute('create table user (id varchar(20) primary key, name varchar(20))')\n",
    "#<sqlite3.Cursor object at 0x10f8aa260>\n",
    "# 继续执行一条SQL语句，插入一条记录:\n",
    "cursor.execute('insert into user (id, name) values (\\'1\\', \\'Michael\\')')\n",
    "#<sqlite3.Cursor object at 0x10f8aa260>\n",
    "# 通过rowcount获得插入的行数:\n",
    "print(\"insert line : \",cursor.rowcount)\n",
    "# 关闭Cursor:\n",
    "cursor.close()\n",
    "# 提交事务:\n",
    "conn.commit()\n",
    "# 关闭Connection:\n",
    "conn.close()"
   ]
  },
  {
   "cell_type": "code",
   "execution_count": null,
   "id": "c1f851b6",
   "metadata": {},
   "outputs": [],
   "source": [
    "conn = sqlite3.connect('test.db')\n",
    "cursor = conn.cursor()\n",
    "# 执行查询语句:\n",
    "cursor.execute('select * from user where id=?', ('1',))\n",
    "#<sqlite3.Cursor object at 0x10f8aa340>\n",
    "# 获得查询结果集:\n",
    "values = cursor.fetchall()\n",
    "print(\"get result : \", values, type(values))\n",
    "cursor.close()\n",
    "conn.close()"
   ]
  },
  {
   "cell_type": "code",
   "execution_count": null,
   "id": "7a8a767c",
   "metadata": {},
   "outputs": [],
   "source": [
    "from __future__ import print_function\n",
    "import torch\n",
    "import numpy\n",
    "x = torch.Tensor(5, 3)\n",
    "print(x, type(x))\n",
    "y = numpy.random.ranf((5, 3))\n",
    "print(y, type(y), numpy.shape(y))\n",
    "x = torch.rand(5, 3)\n",
    "print(x, type(x), x.size())\n",
    "a = torch.rand(5, 3)\n",
    "b = torch.Tensor(5, 3)\n",
    "print(a, type(a), b, type(b))\n",
    "c = torch.add(a, b)\n",
    "print(a, type(a), b, type(b),c, type(c))"
   ]
  },
  {
   "cell_type": "code",
   "execution_count": null,
   "id": "1a38e16a",
   "metadata": {},
   "outputs": [],
   "source": [
    "import torch\n",
    "x = torch.rand(2, 2)\n",
    "y = torch.rand(2, 2)\n",
    "print(x, \"x\")\n",
    "print(y, \"y\")\n",
    "print(x + y)\n",
    "print(torch.add(x, y))\n",
    "x += y\n",
    "print(x)\n",
    "print(x[1, :], \"qq\")\n",
    "x = torch.rand(4, 4)\n",
    "print(x, x.size(), x.dtype)\n",
    "y = x.view(2, 8)\n",
    "print(y)"
   ]
  },
  {
   "cell_type": "code",
   "execution_count": 8,
   "id": "912c233d",
   "metadata": {},
   "outputs": [
    {
     "name": "stdout",
     "output_type": "stream",
     "text": [
      "tensor([[0, 0, 0],\n",
      "        [0, 0, 0],\n",
      "        [0, 0, 0],\n",
      "        [0, 0, 0],\n",
      "        [0, 0, 0]])\n",
      "torch.Size([5, 3])\n",
      "torch.int64\n",
      "[3124234, 123421] tensor([3124234.,  123421.]) <class 'list'> <class 'torch.Tensor'>\n",
      "tensor([0.5253, 0.2487])\n",
      "tensor([0.2487])\n"
     ]
    }
   ],
   "source": [
    "import torch\n",
    "x = torch.zeros(5, 3, dtype=torch.long)\n",
    "print(x)\n",
    "print(x.size())\n",
    "print(x.dtype)\n",
    "l = [3124234,123421]\n",
    "x = torch.Tensor(l)\n",
    "print(l, x, type(l), type(x))\n",
    "x = torch.rand_like(x, dtype=torch.float)\n",
    "print(x)\n",
    "print(x[1:])"
   ]
  },
  {
   "cell_type": "code",
   "execution_count": 16,
   "id": "f0ddb08a",
   "metadata": {},
   "outputs": [
    {
     "name": "stdout",
     "output_type": "stream",
     "text": [
      "tensor([1., 1., 1., 1., 1.]) <class 'torch.Tensor'>\n",
      "[1. 1. 1. 1. 1.] <class 'numpy.ndarray'>\n",
      "[1. 1. 1. 1. 1.] <class 'numpy.ndarray'>\n",
      "[2. 2. 2. 2. 2.] <class 'numpy.ndarray'>\n",
      "tensor([2., 2., 2., 2., 2.], dtype=torch.float64) <class 'torch.Tensor'>\n",
      "no surrport cuda\n"
     ]
    }
   ],
   "source": [
    "import numpy \n",
    "import torch\n",
    "a = torch.ones(5)\n",
    "print(a, type(a))\n",
    "b = a.numpy() # torch to numpy (tensor -> ndarray)\n",
    "print(b, type(b))\n",
    "a = numpy.ones(5)\n",
    "print(a, type(a))\n",
    "b = torch.from_numpy(a)\n",
    "numpy.add(a, 1, out=a)\n",
    "print(a ,type(a))\n",
    "print(b, type(b))\n",
    "if torch.cuda.is_available():\n",
    "    device = torch.device(\"cuda\")          # a CUDA device object\n",
    "    y = torch.ones_like(x, device=device)  # 直接在GPU上创建tensor\n",
    "    x = x.to(device)                       # 或者使用`.to(\"cuda\")`方法\n",
    "    z = x + y\n",
    "    print(z)\n",
    "    print(z.to(\"cpu\", torch.double))       # `.to`也能在移动时改变dtyp\n",
    "else:\n",
    "    print(\"no surrport cuda\")"
   ]
  },
  {
   "cell_type": "code",
   "execution_count": 18,
   "id": "8f042e99",
   "metadata": {},
   "outputs": [
    {
     "name": "stdout",
     "output_type": "stream",
     "text": [
      "输出的结果：\n",
      "tensor([1., 2., 3.])\n",
      "tensor([1, 2, 3], dtype=torch.int32)\n",
      "tensor([1, 2, 3], dtype=torch.int32)\n",
      "tensor([1, 2, 3], dtype=torch.int32)\n",
      "输出的类型：\n",
      "torch.float32\n",
      "torch.int32\n",
      "torch.int32\n",
      "torch.int32\n",
      "torch.float32\n"
     ]
    }
   ],
   "source": [
    "import torch\n",
    "import numpy as np\n",
    "data = np.array([1, 2, 3])\n",
    "\n",
    "Tensor = torch.Tensor(data)\n",
    "tensor = torch.tensor(data)\n",
    "from_numpy = torch.from_numpy(data)\n",
    "as_tensor = torch.as_tensor(data)\n",
    "print('输出的结果：')\n",
    "print(Tensor)\n",
    "print(tensor)\n",
    "print(from_numpy)\n",
    "print(as_tensor)\n",
    "\n",
    "print('输出的类型：')\n",
    "print(Tensor.dtype)\n",
    "print(tensor.dtype)\n",
    "print(from_numpy.dtype)\n",
    "print(as_tensor.dtype)\n",
    "print(torch.get_default_dtype())\n",
    "# from_numpy as_tensor 浅拷贝， 推荐使用 as_tensor，可以接受 python 原生 list\n",
    "# tensor Tensor 深拷贝"
   ]
  },
  {
   "cell_type": "code",
   "execution_count": null,
   "id": "9e595f0f",
   "metadata": {},
   "outputs": [],
   "source": []
  },
  {
   "cell_type": "code",
   "execution_count": 34,
   "id": "26321eeb",
   "metadata": {},
   "outputs": [
    {
     "name": "stdout",
     "output_type": "stream",
     "text": [
      "[[ 12 334]\n",
      " [223  33]] <class 'numpy.ndarray'> int32\n",
      "tensor([[ 12., 334.],\n",
      "        [223.,  33.]], dtype=torch.float64, requires_grad=True) <class 'torch.Tensor'> torch.float64\n",
      "tensor([[ 44., 366.],\n",
      "        [255.,  65.]], dtype=torch.float64, grad_fn=<AddBackward0>) <class 'torch.Tensor'> torch.float64\n",
      "tensor([[ 88.0432, 732.4445],\n",
      "        [510.6843, 130.1294]], dtype=torch.float64, grad_fn=<AddBackward0>) <class 'torch.Tensor'> torch.float64\n",
      "<AddBackward0 object at 0x000002A33CD38A90>\n"
     ]
    }
   ],
   "source": [
    "import torch\n",
    "import numpy as np\n",
    "a = numpy.array([[12,334],[223,33]])\n",
    "print(a, type(a), a.dtype)\n",
    "b = torch.tensor(a, dtype=torch.float64, requires_grad=True)\n",
    "print(b, type(b), b.dtype)\n",
    "b = b + 32\n",
    "print(b, type(b), b.dtype)\n",
    "b = b * 2\n",
    "b = b + torch.rand(2,2)\n",
    "print(b, type(b), b.dtype) #numpy 默认 int32, tensor float32\n",
    "print(b.grad_fn)"
   ]
  },
  {
   "cell_type": "code",
   "execution_count": 39,
   "id": "ddc87fc0",
   "metadata": {},
   "outputs": [
    {
     "name": "stdout",
     "output_type": "stream",
     "text": [
      "False\n",
      "True\n",
      "<SumBackward0 object at 0x000002A33BB59160>\n",
      "None\n",
      "tensor([-0.1271,  1.0101, -0.2528], requires_grad=True) x\n",
      "tensor([-0.2542,  2.0203, -0.5057], grad_fn=<MulBackward0>) y\n",
      "tensor([-130.1741, 1034.3812, -258.9066], grad_fn=<MulBackward0>)\n"
     ]
    }
   ],
   "source": [
    "import torch\n",
    "a = torch.randn(2, 2)\n",
    "a = ((a * 3) / (a - 1))\n",
    "print(a.requires_grad)\n",
    "a.requires_grad_(True)\n",
    "print(a.requires_grad)\n",
    "b = (a * a).sum()\n",
    "print(b.grad_fn)\n",
    "print(b.backward())\n",
    "\n",
    "x = torch.randn(3, requires_grad=True)\n",
    "print(x, \"x\")\n",
    "y = x * 2\n",
    "print(y, \"y\")\n",
    "while y.data.norm() < 1000:\n",
    "    y = y * 2\n",
    "\n",
    "print(y)"
   ]
  },
  {
   "cell_type": "code",
   "execution_count": 44,
   "id": "4879aa45",
   "metadata": {},
   "outputs": [
    {
     "name": "stdout",
     "output_type": "stream",
     "text": [
      "in, out tensor([[ 0.0023, -0.0492,  0.6475],\n",
      "        [ 1.5920,  0.8618,  0.4290],\n",
      "        [-0.4689, -1.2290, -0.1098],\n",
      "        [-0.6031,  1.0772,  0.2740]])\n",
      "out tensor([ 1.4511,  0.7946, -0.3832])\n",
      "tensor([[-0.9880, -0.5954,  1.1387, -1.7593],\n",
      "        [-0.6070, -0.1915, -0.3441,  0.2134]])\n",
      "tensor([[5.8682, 2.7789, 2.2047],\n",
      "        [2.2672, 0.3739, 0.8371]], grad_fn=<AddBackward0>)\n",
      "w Parameter containing:\n",
      "tensor([[-1.5243, -1.3288, -0.4123],\n",
      "        [ 1.1014,  0.7649, -2.3730],\n",
      "        [ 1.5260,  0.7510, -0.0406],\n",
      "        [-0.6094, -0.5546, -0.1583]], requires_grad=True)\n",
      "b Parameter containing:\n",
      "tensor([2.2080, 0.0905, 0.1523], requires_grad=True)\n"
     ]
    }
   ],
   "source": [
    "import torch as t\n",
    "from torch import nn\n",
    "class Linear(nn.Module): # 继承nn.Module\n",
    "    def __init__(self, in_features, out_features):\n",
    "        super(Linear, self).__init__() # 等价于nn.Module.__init__(self)\n",
    "        self.w = nn.Parameter(t.randn(in_features, out_features))\n",
    "        self.b = nn.Parameter(t.randn(out_features))\n",
    "    \n",
    "    def forward(self, x):\n",
    "        x = x.mm(self.w) # x.@(self.w)\n",
    "        return x + self.b.expand_as(x)\n",
    "layer = Linear(4, 3)\n",
    "print(\"in, out\", t.randn(4,3))\n",
    "print(\"out\", t.randn(3))\n",
    "input = t.randn(2,4)\n",
    "print(input)\n",
    "output = layer(input)\n",
    "print(output)\n",
    "\n",
    "for name, parameter in layer.named_parameters():\n",
    "    print(name, parameter) #"
   ]
  },
  {
   "cell_type": "code",
   "execution_count": 4,
   "id": "b98bd6fa",
   "metadata": {},
   "outputs": [
    {
     "name": "stdout",
     "output_type": "stream",
     "text": [
      "0 32506.076767304214\n",
      "1 32287.562098715585\n",
      "2 32071.000172256063\n",
      "3 31856.36941025196\n",
      "4 31643.648524599565\n",
      "5 31432.816512084588\n",
      "6 31223.852649791188\n",
      "7 31016.736490598858\n",
      "8 30811.447858765005\n",
      "9 30607.966845591473\n",
      "10 30406.273805173103\n",
      "11 30206.34935022653\n",
      "12 30008.174347997407\n",
      "13 29811.920405968955\n",
      "14 29617.50676603211\n",
      "1626761165.5033305\n"
     ]
    }
   ],
   "source": [
    "# -*- coding: utf-8 -*-\n",
    "import numpy as np\n",
    "import time\n",
    "# N is batch size; D_in is input dimension;\n",
    "# H is hidden dimension; D_out is output dimension.\n",
    "N, D_in, H, D_out = 4, 10, 100, 10\n",
    "\n",
    "# Create random input and output data\n",
    "x = np.random.randn(N, D_in)\n",
    "y = np.random.randn(N, D_out)\n",
    "\n",
    "# Randomly initialize weights\n",
    "w1 = np.random.randn(D_in, H)\n",
    "w2 = np.random.randn(H, D_out)\n",
    "\n",
    "learning_rate = 1e-6\n",
    "t = time.time()\n",
    "for t in range(15):\n",
    "    # Forward pass: compute predicted y\n",
    "    h = x.dot(w1)\n",
    "    h_relu = np.maximum(h, 0)\n",
    "    y_pred = h_relu.dot(w2)\n",
    "\n",
    "    # Compute and print loss\n",
    "    loss = np.square(y_pred - y).sum()\n",
    "    print(t, loss)\n",
    "\n",
    "    # Backprop to compute gradients of w1 and w2 with respect to loss\n",
    "    grad_y_pred = 2.0 * (y_pred - y)\n",
    "    grad_w2 = h_relu.T.dot(grad_y_pred)\n",
    "    grad_h_relu = grad_y_pred.dot(w2.T)\n",
    "    grad_h = grad_h_relu.copy()\n",
    "    grad_h[h < 0] = 0\n",
    "    grad_w1 = x.T.dot(grad_h)\n",
    "\n",
    "    # Update weights\n",
    "    w1 -= learning_rate * grad_w1\n",
    "    w2 -= learning_rate * grad_w2\n",
    "print(time.time() -t)"
   ]
  },
  {
   "cell_type": "code",
   "execution_count": 5,
   "id": "4a4cabe5",
   "metadata": {},
   "outputs": [
    {
     "name": "stdout",
     "output_type": "stream",
     "text": [
      "1626761255.493857\n"
     ]
    }
   ],
   "source": [
    "# -*- coding: utf-8 -*-\n",
    "\n",
    "import torch\n",
    "\n",
    "dtype = torch.float\n",
    "device = torch.device(\"cpu\")\n",
    "# device = torch.device(\"cuda:0\") # Uncomment this to run on GPU\n",
    "\n",
    "# N is batch size; D_in is input dimension;\n",
    "# H is hidden dimension; D_out is output dimension.\n",
    "N, D_in, H, D_out = 4, 10, 100, 10\n",
    "\n",
    "# Create random input and output data\n",
    "x = torch.randn(N, D_in, device=device, dtype=dtype)\n",
    "y = torch.randn(N, D_out, device=device, dtype=dtype)\n",
    "\n",
    "# Randomly initialize weights\n",
    "w1 = torch.randn(D_in, H, device=device, dtype=dtype)\n",
    "w2 = torch.randn(H, D_out, device=device, dtype=dtype)\n",
    "\n",
    "learning_rate = 1e-6\n",
    "t = time.time()\n",
    "for t in range(15):\n",
    "    # Forward pass: compute predicted y\n",
    "    h = x.mm(w1)\n",
    "    h_relu = h.clamp(min=0)\n",
    "    y_pred = h_relu.mm(w2)\n",
    "\n",
    "    # Compute and print loss\n",
    "    loss = (y_pred - y).pow(2).sum().item()\n",
    "    if t % 100 == 99:\n",
    "        print(t, loss)\n",
    "\n",
    "    # Backprop to compute gradients of w1 and w2 with respect to loss\n",
    "    grad_y_pred = 2.0 * (y_pred - y)\n",
    "    grad_w2 = h_relu.t().mm(grad_y_pred)\n",
    "    grad_h_relu = grad_y_pred.mm(w2.t())\n",
    "    grad_h = grad_h_relu.clone()\n",
    "    grad_h[h < 0] = 0\n",
    "    grad_w1 = x.t().mm(grad_h)\n",
    "\n",
    "    # Update weights using gradient descent\n",
    "    w1 -= learning_rate * grad_w1\n",
    "    w2 -= learning_rate * grad_w2\n",
    "print(time.time() - t)"
   ]
  },
  {
   "cell_type": "code",
   "execution_count": 14,
   "id": "7fb7dc5a",
   "metadata": {},
   "outputs": [
    {
     "name": "stdout",
     "output_type": "stream",
     "text": [
      "Dataset FashionMNIST\n",
      "    Number of datapoints: 60000\n",
      "    Root location: data\n",
      "    Split: Train\n",
      "    StandardTransform\n",
      "Transform: ToTensor() <class 'torchvision.datasets.mnist.FashionMNIST'> 2926\n",
      "Dataset FashionMNIST\n",
      "    Number of datapoints: 60000\n",
      "    Root location: data\n",
      "    Split: Train\n",
      "    StandardTransform\n",
      "Transform: ToTensor() <class 'torchvision.datasets.mnist.FashionMNIST'> 50176\n",
      "Dataset FashionMNIST\n",
      "    Number of datapoints: 60000\n",
      "    Root location: data\n",
      "    Split: Train\n",
      "    StandardTransform\n",
      "Transform: ToTensor() <class 'torchvision.datasets.mnist.FashionMNIST'> 32637\n",
      "Dataset FashionMNIST\n",
      "    Number of datapoints: 60000\n",
      "    Root location: data\n",
      "    Split: Train\n",
      "    StandardTransform\n",
      "Transform: ToTensor() <class 'torchvision.datasets.mnist.FashionMNIST'> 32418\n",
      "Dataset FashionMNIST\n",
      "    Number of datapoints: 60000\n",
      "    Root location: data\n",
      "    Split: Train\n",
      "    StandardTransform\n",
      "Transform: ToTensor() <class 'torchvision.datasets.mnist.FashionMNIST'> 32175\n",
      "Dataset FashionMNIST\n",
      "    Number of datapoints: 60000\n",
      "    Root location: data\n",
      "    Split: Train\n",
      "    StandardTransform\n",
      "Transform: ToTensor() <class 'torchvision.datasets.mnist.FashionMNIST'> 54312\n",
      "Dataset FashionMNIST\n",
      "    Number of datapoints: 60000\n",
      "    Root location: data\n",
      "    Split: Train\n",
      "    StandardTransform\n",
      "Transform: ToTensor() <class 'torchvision.datasets.mnist.FashionMNIST'> 48371\n",
      "Dataset FashionMNIST\n",
      "    Number of datapoints: 60000\n",
      "    Root location: data\n",
      "    Split: Train\n",
      "    StandardTransform\n",
      "Transform: ToTensor() <class 'torchvision.datasets.mnist.FashionMNIST'> 43974\n",
      "Dataset FashionMNIST\n",
      "    Number of datapoints: 60000\n",
      "    Root location: data\n",
      "    Split: Train\n",
      "    StandardTransform\n",
      "Transform: ToTensor() <class 'torchvision.datasets.mnist.FashionMNIST'> 22462\n"
     ]
    },
    {
     "data": {
      "image/png": "[encoded data removed]",
      "text/plain": [
       "<Figure size 576x576 with 9 Axes>"
      ]
     },
     "metadata": {
      "needs_background": "light"
     },
     "output_type": "display_data"
    }
   ],
   "source": [
    "import torch\n",
    "import matplotlib.pyplot as plt\n",
    "from torch.utils.data import Dataset\n",
    "from torchvision import datasets\n",
    "from torchvision.transforms import ToTensor\n",
    "'''\n",
    "training_data = datasets.FashionMNIST(\n",
    "    root=\"data\",\n",
    "    train=True,\n",
    "    download=True,\n",
    "    transform=ToTensor()\n",
    ")\n",
    "\n",
    "test_data = datasets.FashionMNIST(\n",
    "    root=\"data\",\n",
    "    train=False,\n",
    "    download=True,\n",
    "    transform=ToTensor()\n",
    ")\n",
    "'''\n",
    "labels_map = {\n",
    "    0: \"T-Shirt\",\n",
    "    1: \"Trouser\",\n",
    "    2: \"Pullover\",\n",
    "    3: \"Dress\",\n",
    "    4: \"Coat\",\n",
    "    5: \"Sandal\",\n",
    "    6: \"Shirt\",\n",
    "    7: \"Sneaker\",\n",
    "    8: \"Bag\",\n",
    "    9: \"Ankle Boot\",\n",
    "}\n",
    "figure = plt.figure(figsize=(8, 8))\n",
    "cols, rows = 3, 3\n",
    "for i in range(1, cols * rows + 1):\n",
    "    sample_idx = torch.randint(len(training_data), size=(1,)).item()\n",
    "    print(training_data, type(training_data), sample_idx)\n",
    "    img, label = training_data[sample_idx]\n",
    "    figure.add_subplot(rows, cols, i)\n",
    "    plt.title(labels_map[label])\n",
    "    plt.axis(\"off\")\n",
    "    plt.imshow(img.squeeze(), cmap=\"gray\")\n",
    "plt.show()"
   ]
  },
  {
   "cell_type": "code",
   "execution_count": null,
   "id": "5b04c772",
   "metadata": {},
   "outputs": [],
   "source": []
  }
 ],
 "metadata": {
  "kernelspec": {
   "display_name": "Python 3",
   "language": "python",
   "name": "python3"
  },
  "language_info": {
   "codemirror_mode": {
    "name": "ipython",
    "version": 3
   },
   "file_extension": ".py",
   "mimetype": "text/x-python",
   "name": "python",
   "nbconvert_exporter": "python",
   "pygments_lexer": "ipython3",
   "version": "3.8.8"
  },
  "widgets": {
   "application/vnd.jupyter.widget-state+json": {
    "state": {},
    "version_major": 2,
    "version_minor": 0
   }
  }
 },
 "nbformat": 4,
 "nbformat_minor": 5
}
